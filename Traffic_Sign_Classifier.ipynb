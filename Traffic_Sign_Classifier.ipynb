{
 "cells": [
  {
   "cell_type": "markdown",
   "metadata": {},
   "source": [
    "# Self-Driving Car Engineer Nanodegree\n",
    "\n",
    "## Deep Learning\n",
    "\n",
    "## Project: Build a Traffic Sign Recognition Classifier\n",
    "\n",
    "In this notebook, a template is provided for you to implement your functionality in stages, which is required to successfully complete this project. If additional code is required that cannot be included in the notebook, be sure that the Python code is successfully imported and included in your submission if necessary. \n",
    "\n",
    "> **Note**: Once you have completed all of the code implementations, you need to finalize your work by exporting the iPython Notebook as an HTML document. Before exporting the notebook to html, all of the code cells need to have been run so that reviewers can see the final implementation and output. You can then export the notebook by using the menu above and navigating to  \\n\",\n",
    "    \"**File -> Download as -> HTML (.html)**. Include the finished document along with this notebook as your submission. \n",
    "\n",
    "In addition to implementing code, there is a writeup to complete. The writeup should be completed in a separate file, which can be either a markdown file or a pdf document. There is a [write up template](https://github.com/udacity/CarND-Traffic-Sign-Classifier-Project/blob/master/writeup_template.md) that can be used to guide the writing process. Completing the code template and writeup template will cover all of the [rubric points](https://review.udacity.com/#!/rubrics/481/view) for this project.\n",
    "\n",
    "The [rubric](https://review.udacity.com/#!/rubrics/481/view) contains \"Stand Out Suggestions\" for enhancing the project beyond the minimum requirements. The stand out suggestions are optional. If you decide to pursue the \"stand out suggestions\", you can include the code in this Ipython notebook and also discuss the results in the writeup file.\n",
    "\n",
    "\n",
    ">**Note:** Code and Markdown cells can be executed using the **Shift + Enter** keyboard shortcut. In addition, Markdown cells can be edited by typically double-clicking the cell to enter edit mode."
   ]
  },
  {
   "cell_type": "markdown",
   "metadata": {},
   "source": [
    "---\n",
    "## Step 0: Load The Data"
   ]
  },
  {
   "cell_type": "code",
<<<<<<< HEAD
   "execution_count": null,
   "metadata": {
    "collapsed": false
   },
=======
   "execution_count": 8,
   "metadata": {},
>>>>>>> 7e3fb3eb4429f8e043188084d90924a104148cc2
   "outputs": [],
   "source": [
    "# Load pickled data\n",
    "import pickle\n",
    "\n",
    "# TODO: Fill this in based on where you saved the training and testing data\n",
    "\n",
<<<<<<< HEAD
    "training_file = ?\n",
    "validation_file=?\n",
    "testing_file = ?\n",
=======
    "training_file = 'train.p'\n",
    "validation_file= 'valid.p'\n",
    "testing_file = 'test.p'\n",
>>>>>>> 7e3fb3eb4429f8e043188084d90924a104148cc2
    "\n",
    "with open(training_file, mode='rb') as f:\n",
    "    train = pickle.load(f)\n",
    "with open(validation_file, mode='rb') as f:\n",
    "    valid = pickle.load(f)\n",
    "with open(testing_file, mode='rb') as f:\n",
    "    test = pickle.load(f)\n",
    "    \n",
    "X_train, y_train = train['features'], train['labels']\n",
    "X_valid, y_valid = valid['features'], valid['labels']\n",
    "X_test, y_test = test['features'], test['labels']"
   ]
  },
  {
   "cell_type": "markdown",
   "metadata": {},
   "source": [
    "---\n",
    "\n",
    "## Step 1: Dataset Summary & Exploration\n",
    "\n",
    "The pickled data is a dictionary with 4 key/value pairs:\n",
    "\n",
    "- `'features'` is a 4D array containing raw pixel data of the traffic sign images, (num examples, width, height, channels).\n",
    "- `'labels'` is a 1D array containing the label/class id of the traffic sign. The file `signnames.csv` contains id -> name mappings for each id.\n",
    "- `'sizes'` is a list containing tuples, (width, height) representing the original width and height the image.\n",
    "- `'coords'` is a list containing tuples, (x1, y1, x2, y2) representing coordinates of a bounding box around the sign in the image. **THESE COORDINATES ASSUME THE ORIGINAL IMAGE. THE PICKLED DATA CONTAINS RESIZED VERSIONS (32 by 32) OF THESE IMAGES**\n",
    "\n",
    "Complete the basic data summary below. Use python, numpy and/or pandas methods to calculate the data summary rather than hard coding the results. For example, the [pandas shape method](http://pandas.pydata.org/pandas-docs/stable/generated/pandas.DataFrame.shape.html) might be useful for calculating some of the summary results. "
   ]
  },
  {
   "cell_type": "markdown",
   "metadata": {},
   "source": [
    "### Provide a Basic Summary of the Data Set Using Python, Numpy and/or Pandas"
   ]
  },
  {
   "cell_type": "code",
<<<<<<< HEAD
   "execution_count": null,
   "metadata": {
    "collapsed": true
   },
   "outputs": [],
   "source": [
=======
   "execution_count": 11,
   "metadata": {},
   "outputs": [
    {
     "name": "stdout",
     "output_type": "stream",
     "text": [
      "Number of training examples = 34799\n",
      "Number of testing examples = 12630\n",
      "Image data shape = (32, 32, 3)\n",
      "Number of classes = 43\n"
     ]
    }
   ],
   "source": [
    "import numpy as np\n",
>>>>>>> 7e3fb3eb4429f8e043188084d90924a104148cc2
    "### Replace each question mark with the appropriate value. \n",
    "### Use python, pandas or numpy methods rather than hard coding the results\n",
    "\n",
    "# TODO: Number of training examples\n",
<<<<<<< HEAD
    "n_train = ?\n",
    "\n",
    "# TODO: Number of validation examples\n",
    "n_validation = ?\n",
    "\n",
    "# TODO: Number of testing examples.\n",
    "n_test = ?\n",
    "\n",
    "# TODO: What's the shape of an traffic sign image?\n",
    "image_shape = ?\n",
    "\n",
    "# TODO: How many unique classes/labels there are in the dataset.\n",
    "n_classes = ?\n",
=======
    "n_train = len(y_train)\n",
    "assert(len(X_train) == n_train)\n",
    "\n",
    "# TODO: Number of validation examples\n",
    "n_validation = len(y_valid)\n",
    "assert(len(X_valid) == n_validation)\n",
    "\n",
    "# TODO: Number of testing examples.\n",
    "n_test = len(y_test)\n",
    "assert(len(X_test) == n_test)\n",
    "\n",
    "# TODO: What's the shape of an traffic sign image?\n",
    "image_shape = X_train[0].shape\n",
    "\n",
    "# TODO: How many unique classes/labels there are in the dataset.\n",
    "n_classes = len(np.unique(y_train))\n",
>>>>>>> 7e3fb3eb4429f8e043188084d90924a104148cc2
    "\n",
    "print(\"Number of training examples =\", n_train)\n",
    "print(\"Number of testing examples =\", n_test)\n",
    "print(\"Image data shape =\", image_shape)\n",
    "print(\"Number of classes =\", n_classes)"
   ]
  },
  {
   "cell_type": "markdown",
   "metadata": {},
   "source": [
    "### Include an exploratory visualization of the dataset"
   ]
  },
  {
   "cell_type": "markdown",
   "metadata": {},
   "source": [
    "Visualize the German Traffic Signs Dataset using the pickled file(s). This is open ended, suggestions include: plotting traffic sign images, plotting the count of each sign, etc. \n",
    "\n",
    "The [Matplotlib](http://matplotlib.org/) [examples](http://matplotlib.org/examples/index.html) and [gallery](http://matplotlib.org/gallery.html) pages are a great resource for doing visualizations in Python.\n",
    "\n",
    "**NOTE:** It's recommended you start with something simple first. If you wish to do more, come back to it after you've completed the rest of the sections. It can be interesting to look at the distribution of classes in the training, validation and test set. Is the distribution the same? Are there more examples of some classes than others?"
   ]
  },
  {
   "cell_type": "code",
<<<<<<< HEAD
   "execution_count": 16,
   "metadata": {
    "collapsed": true
   },
   "outputs": [],
   "source": [
    "### Data exploration visualization code goes here.\n",
    "### Feel free to use as many code cells as needed.\n",
    "import matplotlib.pyplot as plt\n",
    "# Visualizations will be shown in the notebook.\n",
    "%matplotlib inline"
=======
   "execution_count": 12,
   "metadata": {},
   "outputs": [
    {
     "name": "stdout",
     "output_type": "stream",
     "text": [
      "29\n"
     ]
    },
    {
     "data": {
      "image/png": "iVBORw0KGgoAAAANSUhEUgAAAFsAAABZCAYAAABR/liSAAAABHNCSVQICAgIfAhkiAAAAAlwSFlz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\nQmCC\n",
      "text/plain": [
       "<matplotlib.figure.Figure at 0x1f1c5736ac8>"
      ]
     },
     "metadata": {},
     "output_type": "display_data"
    }
   ],
   "source": [
    "import random\n",
    "import numpy as np\n",
    "import matplotlib.pyplot as plt\n",
    "%matplotlib inline\n",
    "\n",
    "index = random.randint(0, n_train)\n",
    "image = X_train[index].squeeze()\n",
    "\n",
    "plt.figure(figsize=(1,1))\n",
    "plt.imshow(image)\n",
    "print(y_train[index])"
>>>>>>> 7e3fb3eb4429f8e043188084d90924a104148cc2
   ]
  },
  {
   "cell_type": "markdown",
   "metadata": {},
   "source": [
    "----\n",
    "\n",
    "## Step 2: Design and Test a Model Architecture\n",
    "\n",
    "Design and implement a deep learning model that learns to recognize traffic signs. Train and test your model on the [German Traffic Sign Dataset](http://benchmark.ini.rub.de/?section=gtsrb&subsection=dataset).\n",
    "\n",
    "The LeNet-5 implementation shown in the [classroom](https://classroom.udacity.com/nanodegrees/nd013/parts/fbf77062-5703-404e-b60c-95b78b2f3f9e/modules/6df7ae49-c61c-4bb2-a23e-6527e69209ec/lessons/601ae704-1035-4287-8b11-e2c2716217ad/concepts/d4aca031-508f-4e0b-b493-e7b706120f81) at the end of the CNN lesson is a solid starting point. You'll have to change the number of classes and possibly the preprocessing, but aside from that it's plug and play! \n",
    "\n",
    "With the LeNet-5 solution from the lecture, you should expect a validation set accuracy of about 0.89. To meet specifications, the validation set accuracy will need to be at least 0.93. It is possible to get an even higher accuracy, but 0.93 is the minimum for a successful project submission. \n",
    "\n",
    "There are various aspects to consider when thinking about this problem:\n",
    "\n",
    "- Neural network architecture (is the network over or underfitting?)\n",
    "- Play around preprocessing techniques (normalization, rgb to grayscale, etc)\n",
    "- Number of examples per label (some have more than others).\n",
    "- Generate fake data.\n",
    "\n",
    "Here is an example of a [published baseline model on this problem](http://yann.lecun.com/exdb/publis/pdf/sermanet-ijcnn-11.pdf). It's not required to be familiar with the approach used in the paper but, it's good practice to try to read papers like these."
   ]
  },
  {
   "cell_type": "markdown",
   "metadata": {},
   "source": [
    "### Pre-process the Data Set (normalization, grayscale, etc.)"
   ]
  },
  {
   "cell_type": "markdown",
   "metadata": {},
   "source": [
    "Minimally, the image data should be normalized so that the data has mean zero and equal variance. For image data, `(pixel - 128)/ 128` is a quick way to approximately normalize the data and can be used in this project. \n",
    "\n",
    "Other pre-processing steps are optional. You can try different techniques to see if it improves performance. \n",
    "\n",
    "Use the code cell (or multiple code cells, if necessary) to implement the first step of your project."
   ]
  },
  {
   "cell_type": "code",
<<<<<<< HEAD
   "execution_count": 4,
   "metadata": {
    "collapsed": true
   },
=======
   "execution_count": 7,
   "metadata": {},
>>>>>>> 7e3fb3eb4429f8e043188084d90924a104148cc2
   "outputs": [],
   "source": [
    "### Preprocess the data here. It is required to normalize the data. Other preprocessing steps could include \n",
    "### converting to grayscale, etc.\n",
<<<<<<< HEAD
    "### Feel free to use as many code cells as needed."
=======
    "### Feel free to use as many code cells as needed.\n",
    "X_train = X_train / 128 - 1\n",
    "X_valid = X_valid / 128 - 1 \n",
    "X_test = X_test / 128 - 1"
>>>>>>> 7e3fb3eb4429f8e043188084d90924a104148cc2
   ]
  },
  {
   "cell_type": "markdown",
   "metadata": {},
   "source": [
    "### Model Architecture"
   ]
  },
  {
   "cell_type": "code",
<<<<<<< HEAD
   "execution_count": null,
   "metadata": {
    "collapsed": true
   },
   "outputs": [],
   "source": [
    "### Define your architecture here.\n",
    "### Feel free to use as many code cells as needed."
=======
   "execution_count": 16,
   "metadata": {},
   "outputs": [],
   "source": [
    "import tensorflow as tf\n",
    "from tensorflow.contrib.layers import flatten\n",
    "\n",
    "### Define your architecture here.\n",
    "### Feel free to use as many code cells as needed.\n",
    "def CNN(x):\n",
    "    # Arguments used for tf.truncated_normal, randomly defines variables for the weights and biases for each layer\n",
    "    mu = 0\n",
    "    sigma = 0.1\n",
    "    \n",
    "    # Layer 1: Convolutional. Input = 32x32x3. Output = 28x28x6.\n",
    "    conv1_W = tf.Variable(tf.truncated_normal(shape=(5, 5, 3, 6), mean = mu, stddev = sigma))\n",
    "    conv1_b = tf.Variable(tf.zeros(6))\n",
    "    conv1   = tf.nn.conv2d(x, conv1_W, strides=[1, 1, 1, 1], padding='VALID') + conv1_b\n",
    "    conv1 = tf.nn.relu(conv1)\n",
    "    \n",
    "    # Pooling. Input = 28x28x6. Output = 14x14x6.\n",
    "    conv1 = tf.nn.max_pool(conv1, ksize=[1, 2, 2, 1], strides=[1, 2, 2, 1], padding='VALID')\n",
    "\n",
    "    # Layer 2: Convolutional. Output = 10x10x16.\n",
    "    conv2_W = tf.Variable(tf.truncated_normal(shape=(5, 5, 6, 16), mean = mu, stddev = sigma))\n",
    "    conv2_b = tf.Variable(tf.zeros(16))\n",
    "    conv2   = tf.nn.conv2d(conv1, conv2_W, strides=[1, 1, 1, 1], padding='VALID') + conv2_b    \n",
    "    conv2 = tf.nn.relu(conv2)\n",
    "\n",
    "    # Pooling. Input = 10x10x16. Output = 5x5x16.\n",
    "    conv2 = tf.nn.max_pool(conv2, ksize=[1, 2, 2, 1], strides=[1, 2, 2, 1], padding='VALID')\n",
    "\n",
    "    # Flatten. Input = 5x5x16. Output = 400.\n",
    "    fc0   = flatten(conv2)\n",
    "    \n",
    "    # Layer 3: Fully Connected. Input = 400. Output = 120.\n",
    "    fc1_W = tf.Variable(tf.truncated_normal(shape=(400, 120), mean = mu, stddev = sigma))\n",
    "    fc1_b = tf.Variable(tf.zeros(120))\n",
    "    fc1   = tf.matmul(fc0, fc1_W) + fc1_b    \n",
    "    fc1    = tf.nn.relu(fc1)\n",
    "\n",
    "    # Layer 4: Fully Connected. Input = 120. Output = 84.\n",
    "    fc2_W  = tf.Variable(tf.truncated_normal(shape=(120, 84), mean = mu, stddev = sigma))\n",
    "    fc2_b  = tf.Variable(tf.zeros(84))\n",
    "    fc2    = tf.matmul(fc1, fc2_W) + fc2_b\n",
    "    fc2    = tf.nn.relu(fc2)\n",
    "\n",
    "    # Layer 5: Fully Connected. Input = 84. Output = n_classes.\n",
    "    fc3_W  = tf.Variable(tf.truncated_normal(shape=(84, n_classes), mean = mu, stddev = sigma))\n",
    "    fc3_b  = tf.Variable(tf.zeros(n_classes))\n",
    "    logits = tf.matmul(fc2, fc3_W) + fc3_b\n",
    "    \n",
    "    return logits\n",
    "    "
>>>>>>> 7e3fb3eb4429f8e043188084d90924a104148cc2
   ]
  },
  {
   "cell_type": "markdown",
   "metadata": {},
   "source": [
    "### Train, Validate and Test the Model"
   ]
  },
  {
   "cell_type": "markdown",
   "metadata": {},
   "source": [
    "A validation set can be used to assess how well the model is performing. A low accuracy on the training and validation\n",
    "sets imply underfitting. A high accuracy on the training set but low accuracy on the validation set implies overfitting."
   ]
  },
  {
   "cell_type": "code",
<<<<<<< HEAD
   "execution_count": 1,
   "metadata": {
    "collapsed": true
   },
   "outputs": [],
=======
   "execution_count": 24,
   "metadata": {},
   "outputs": [
    {
     "name": "stdout",
     "output_type": "stream",
     "text": [
      "EPOCH 1 - Training\n",
      "Training Accuracy   = 0.732\n",
      "Validation Accuracy = 0.619\n",
      "\n",
      "Model saved\n"
     ]
    }
   ],
>>>>>>> 7e3fb3eb4429f8e043188084d90924a104148cc2
   "source": [
    "### Train your model here.\n",
    "### Calculate and report the accuracy on the training and validation set.\n",
    "### Once a final model architecture is selected, \n",
    "### the accuracy on the test set should be calculated and reported as well.\n",
<<<<<<< HEAD
    "### Feel free to use as many code cells as needed."
=======
    "### Feel free to use as many code cells as needed.\n",
    "from sklearn.utils import shuffle\n",
    "\n",
    "EPOCHS = 1\n",
    "BATCH_SIZE = 128\n",
    "RATE = 0.001\n",
    "\n",
    "x = tf.placeholder(tf.float32, (None, 32, 32, 3))\n",
    "y = tf.placeholder(tf.int32, (None))\n",
    "one_hot_y = tf.one_hot(y, n_classes)\n",
    "\n",
    "logits = CNN(x)\n",
    "cross_entropy = tf.nn.softmax_cross_entropy_with_logits(labels=one_hot_y, logits=logits)\n",
    "loss_operation = tf.reduce_mean(cross_entropy)\n",
    "optimizer = tf.train.AdamOptimizer(learning_rate = RATE)\n",
    "training_operation = optimizer.minimize(loss_operation)\n",
    "\n",
    "correct_prediction = tf.equal(tf.argmax(logits, 1), tf.argmax(one_hot_y, 1))\n",
    "accuracy_operation = tf.reduce_mean(tf.cast(correct_prediction, tf.float32))\n",
    "saver = tf.train.Saver()\n",
    "\n",
    "def evaluate(X_data, y_data):\n",
    "    total_accuracy = 0\n",
    "    sess = tf.get_default_session()\n",
    "    num_examples = len(X_data)\n",
    "    for offset in range(0, num_examples, BATCH_SIZE):\n",
    "        batch_x, batch_y = X_data[offset:offset+BATCH_SIZE], y_data[offset:offset+BATCH_SIZE]\n",
    "        accuracy = sess.run(accuracy_operation, feed_dict={x: batch_x, y: batch_y})\n",
    "        total_accuracy += (accuracy * len(batch_x))\n",
    "    return total_accuracy / num_examples\n",
    "\n",
    "\n",
    "with tf.Session() as sess:\n",
    "    sess.run(tf.global_variables_initializer())\n",
    "    \n",
    "    for i in range(EPOCHS):\n",
    "        print(\"EPOCH {} - Training\".format(i+1))\n",
    "        X_train, y_train = shuffle(X_train, y_train)\n",
    "        for offset in range(0, n_train, BATCH_SIZE):\n",
    "            end = offset + BATCH_SIZE\n",
    "            batch_x, batch_y = X_train[offset:end], y_train[offset:end]\n",
    "            sess.run(training_operation, feed_dict={x: batch_x, y: batch_y})\n",
    "            \n",
    "        training_acccuracy = evaluate(X_train, y_train)\n",
    "        print(\"Training Accuracy   = {:.3f}\".format(training_acccuracy))\n",
    "        validation_accuracy = evaluate(X_valid, y_valid)\n",
    "        print(\"Validation Accuracy = {:.3f}\".format(validation_accuracy))\n",
    "        print()\n",
    "        \n",
    "    saver.save(sess, './cnn')\n",
    "    print(\"Model saved\")"
>>>>>>> 7e3fb3eb4429f8e043188084d90924a104148cc2
   ]
  },
  {
   "cell_type": "markdown",
   "metadata": {},
   "source": [
    "---\n",
    "\n",
    "## Step 3: Test a Model on New Images\n",
    "\n",
    "To give yourself more insight into how your model is working, download at least five pictures of German traffic signs from the web and use your model to predict the traffic sign type.\n",
    "\n",
    "You may find `signnames.csv` useful as it contains mappings from the class id (integer) to the actual sign name."
   ]
  },
  {
   "cell_type": "markdown",
   "metadata": {},
   "source": [
    "### Load and Output the Images"
   ]
  },
  {
   "cell_type": "code",
   "execution_count": null,
   "metadata": {
    "collapsed": true
   },
   "outputs": [],
   "source": [
    "### Load the images and plot them here.\n",
    "### Feel free to use as many code cells as needed."
   ]
  },
  {
   "cell_type": "markdown",
   "metadata": {},
   "source": [
    "### Predict the Sign Type for Each Image"
   ]
  },
  {
   "cell_type": "code",
   "execution_count": 3,
   "metadata": {
    "collapsed": true
   },
   "outputs": [],
   "source": [
    "### Run the predictions here and use the model to output the prediction for each image.\n",
    "### Make sure to pre-process the images with the same pre-processing pipeline used earlier.\n",
    "### Feel free to use as many code cells as needed."
   ]
  },
  {
   "cell_type": "markdown",
   "metadata": {},
   "source": [
    "### Analyze Performance"
   ]
  },
  {
   "cell_type": "code",
   "execution_count": 4,
   "metadata": {
    "collapsed": true
   },
   "outputs": [],
   "source": [
    "### Calculate the accuracy for these 5 new images. \n",
    "### For example, if the model predicted 1 out of 5 signs correctly, it's 20% accurate on these new images."
   ]
  },
  {
   "cell_type": "markdown",
   "metadata": {},
   "source": [
    "### Output Top 5 Softmax Probabilities For Each Image Found on the Web"
   ]
  },
  {
   "cell_type": "markdown",
   "metadata": {},
   "source": [
    "For each of the new images, print out the model's softmax probabilities to show the **certainty** of the model's predictions (limit the output to the top 5 probabilities for each image). [`tf.nn.top_k`](https://www.tensorflow.org/versions/r0.12/api_docs/python/nn.html#top_k) could prove helpful here. \n",
    "\n",
    "The example below demonstrates how tf.nn.top_k can be used to find the top k predictions for each image.\n",
    "\n",
    "`tf.nn.top_k` will return the values and indices (class ids) of the top k predictions. So if k=3, for each sign, it'll return the 3 largest probabilities (out of a possible 43) and the correspoding class ids.\n",
    "\n",
    "Take this numpy array as an example. The values in the array represent predictions. The array contains softmax probabilities for five candidate images with six possible classes. `tf.nn.top_k` is used to choose the three classes with the highest probability:\n",
    "\n",
    "```\n",
    "# (5, 6) array\n",
    "a = np.array([[ 0.24879643,  0.07032244,  0.12641572,  0.34763842,  0.07893497,\n",
    "         0.12789202],\n",
    "       [ 0.28086119,  0.27569815,  0.08594638,  0.0178669 ,  0.18063401,\n",
    "         0.15899337],\n",
    "       [ 0.26076848,  0.23664738,  0.08020603,  0.07001922,  0.1134371 ,\n",
    "         0.23892179],\n",
    "       [ 0.11943333,  0.29198961,  0.02605103,  0.26234032,  0.1351348 ,\n",
    "         0.16505091],\n",
    "       [ 0.09561176,  0.34396535,  0.0643941 ,  0.16240774,  0.24206137,\n",
    "         0.09155967]])\n",
    "```\n",
    "\n",
    "Running it through `sess.run(tf.nn.top_k(tf.constant(a), k=3))` produces:\n",
    "\n",
    "```\n",
    "TopKV2(values=array([[ 0.34763842,  0.24879643,  0.12789202],\n",
    "       [ 0.28086119,  0.27569815,  0.18063401],\n",
    "       [ 0.26076848,  0.23892179,  0.23664738],\n",
    "       [ 0.29198961,  0.26234032,  0.16505091],\n",
    "       [ 0.34396535,  0.24206137,  0.16240774]]), indices=array([[3, 0, 5],\n",
    "       [0, 1, 4],\n",
    "       [0, 5, 1],\n",
    "       [1, 3, 5],\n",
    "       [1, 4, 3]], dtype=int32))\n",
    "```\n",
    "\n",
    "Looking just at the first row we get `[ 0.34763842,  0.24879643,  0.12789202]`, you can confirm these are the 3 largest probabilities in `a`. You'll also notice `[3, 0, 5]` are the corresponding indices."
   ]
  },
  {
   "cell_type": "code",
   "execution_count": 3,
   "metadata": {
    "collapsed": true
   },
   "outputs": [],
   "source": [
    "### Print out the top five softmax probabilities for the predictions on the German traffic sign images found on the web. \n",
    "### Feel free to use as many code cells as needed."
   ]
  },
  {
   "cell_type": "markdown",
   "metadata": {},
   "source": [
    "### Project Writeup\n",
    "\n",
    "Once you have completed the code implementation, document your results in a project writeup using this [template](https://github.com/udacity/CarND-Traffic-Sign-Classifier-Project/blob/master/writeup_template.md) as a guide. The writeup can be in a markdown or pdf file. "
   ]
  },
  {
   "cell_type": "markdown",
   "metadata": {},
   "source": [
    "> **Note**: Once you have completed all of the code implementations and successfully answered each question above, you may finalize your work by exporting the iPython Notebook as an HTML document. You can do this by using the menu above and navigating to  \\n\",\n",
    "    \"**File -> Download as -> HTML (.html)**. Include the finished document along with this notebook as your submission."
   ]
  },
  {
   "cell_type": "markdown",
   "metadata": {},
   "source": [
    "---\n",
    "\n",
    "## Step 4 (Optional): Visualize the Neural Network's State with Test Images\n",
    "\n",
    " This Section is not required to complete but acts as an additional excersise for understaning the output of a neural network's weights. While neural networks can be a great learning device they are often referred to as a black box. We can understand what the weights of a neural network look like better by plotting their feature maps. After successfully training your neural network you can see what it's feature maps look like by plotting the output of the network's weight layers in response to a test stimuli image. From these plotted feature maps, it's possible to see what characteristics of an image the network finds interesting. For a sign, maybe the inner network feature maps react with high activation to the sign's boundary outline or to the contrast in the sign's painted symbol.\n",
    "\n",
    " Provided for you below is the function code that allows you to get the visualization output of any tensorflow weight layer you want. The inputs to the function should be a stimuli image, one used during training or a new one you provided, and then the tensorflow variable name that represents the layer's state during the training process, for instance if you wanted to see what the [LeNet lab's](https://classroom.udacity.com/nanodegrees/nd013/parts/fbf77062-5703-404e-b60c-95b78b2f3f9e/modules/6df7ae49-c61c-4bb2-a23e-6527e69209ec/lessons/601ae704-1035-4287-8b11-e2c2716217ad/concepts/d4aca031-508f-4e0b-b493-e7b706120f81) feature maps looked like for it's second convolutional layer you could enter conv2 as the tf_activation variable.\n",
    "\n",
    "For an example of what feature map outputs look like, check out NVIDIA's results in their paper [End-to-End Deep Learning for Self-Driving Cars](https://devblogs.nvidia.com/parallelforall/deep-learning-self-driving-cars/) in the section Visualization of internal CNN State. NVIDIA was able to show that their network's inner weights had high activations to road boundary lines by comparing feature maps from an image with a clear path to one without. Try experimenting with a similar test to show that your trained network's weights are looking for interesting features, whether it's looking at differences in feature maps from images with or without a sign, or even what feature maps look like in a trained network vs a completely untrained one on the same sign image.\n",
    "\n",
    "<figure>\n",
    " <img src=\"visualize_cnn.png\" width=\"380\" alt=\"Combined Image\" />\n",
    " <figcaption>\n",
    " <p></p> \n",
    " <p style=\"text-align: center;\"> Your output should look something like this (above)</p> \n",
    " </figcaption>\n",
    "</figure>\n",
    " <p></p> \n"
   ]
  },
  {
   "cell_type": "code",
   "execution_count": null,
   "metadata": {
    "collapsed": true
   },
   "outputs": [],
   "source": [
    "### Visualize your network's feature maps here.\n",
    "### Feel free to use as many code cells as needed.\n",
    "\n",
    "# image_input: the test image being fed into the network to produce the feature maps\n",
    "# tf_activation: should be a tf variable name used during your training procedure that represents the calculated state of a specific weight layer\n",
    "# activation_min/max: can be used to view the activation contrast in more detail, by default matplot sets min and max to the actual min and max values of the output\n",
    "# plt_num: used to plot out multiple different weight feature map sets on the same block, just extend the plt number for each new feature map entry\n",
    "\n",
    "def outputFeatureMap(image_input, tf_activation, activation_min=-1, activation_max=-1 ,plt_num=1):\n",
    "    # Here make sure to preprocess your image_input in a way your network expects\n",
    "    # with size, normalization, ect if needed\n",
    "    # image_input =\n",
    "    # Note: x should be the same name as your network's tensorflow data placeholder variable\n",
    "    # If you get an error tf_activation is not defined it may be having trouble accessing the variable from inside a function\n",
    "    activation = tf_activation.eval(session=sess,feed_dict={x : image_input})\n",
    "    featuremaps = activation.shape[3]\n",
    "    plt.figure(plt_num, figsize=(15,15))\n",
    "    for featuremap in range(featuremaps):\n",
    "        plt.subplot(6,8, featuremap+1) # sets the number of feature maps to show on each row and column\n",
    "        plt.title('FeatureMap ' + str(featuremap)) # displays the feature map number\n",
    "        if activation_min != -1 & activation_max != -1:\n",
    "            plt.imshow(activation[0,:,:, featuremap], interpolation=\"nearest\", vmin =activation_min, vmax=activation_max, cmap=\"gray\")\n",
    "        elif activation_max != -1:\n",
    "            plt.imshow(activation[0,:,:, featuremap], interpolation=\"nearest\", vmax=activation_max, cmap=\"gray\")\n",
    "        elif activation_min !=-1:\n",
    "            plt.imshow(activation[0,:,:, featuremap], interpolation=\"nearest\", vmin=activation_min, cmap=\"gray\")\n",
    "        else:\n",
    "            plt.imshow(activation[0,:,:, featuremap], interpolation=\"nearest\", cmap=\"gray\")"
   ]
  }
 ],
 "metadata": {
  "anaconda-cloud": {},
  "kernelspec": {
   "display_name": "Python 3",
   "language": "python",
   "name": "python3"
  },
  "language_info": {
   "codemirror_mode": {
    "name": "ipython",
    "version": 3
   },
   "file_extension": ".py",
   "mimetype": "text/x-python",
   "name": "python",
   "nbconvert_exporter": "python",
   "pygments_lexer": "ipython3",
   "version": "3.5.2"
<<<<<<< HEAD
=======
  },
  "widgets": {
   "state": {},
   "version": "1.1.2"
>>>>>>> 7e3fb3eb4429f8e043188084d90924a104148cc2
  }
 },
 "nbformat": 4,
 "nbformat_minor": 1
}
